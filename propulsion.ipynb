{
  "nbformat": 4,
  "nbformat_minor": 0,
  "metadata": {
    "colab": {
      "name": "propulsion.ipynb",
      "provenance": []
    },
    "kernelspec": {
      "name": "python3",
      "display_name": "Python 3"
    }
  },
  "cells": [
    {
      "cell_type": "code",
      "metadata": {
        "id": "K_LG6HbSalUx",
        "outputId": "1efd4b63-c755-4129-c0c3-b21efa789c16",
        "colab": {
          "base_uri": "https://localhost:8080/"
        }
      },
      "source": [
        "from google.colab import drive\n",
        "drive.mount(\"/drive\")"
      ],
      "execution_count": 1,
      "outputs": [
        {
          "output_type": "stream",
          "text": [
            "Mounted at /drive\n"
          ],
          "name": "stdout"
        }
      ]
    },
    {
      "cell_type": "code",
      "metadata": {
        "id": "zSos676QKhVb"
      },
      "source": [
        "import numpy\n",
        "import pandas\n",
        "\n",
        "from sklearn.feature_selection import RFE\n",
        "from sklearn.ensemble import ExtraTreesRegressor\n",
        "from sklearn.preprocessing import StandardScaler\n",
        "\n",
        "import matplotlib.pyplot as plt\n",
        "import lightgbm as lgb\n",
        "\n",
        "#from sklearn.cross_validation import train_test_split\n",
        "from sklearn.model_selection import train_test_split\n",
        "from sklearn.linear_model import LinearRegression\n",
        "from sklearn.linear_model import Ridge\n",
        "from sklearn.ensemble import BaggingRegressor\n",
        "from sklearn.ensemble import RandomForestRegressor\n",
        "from sklearn.ensemble import ExtraTreesRegressor\n",
        "from sklearn.tree import DecisionTreeRegressor\n",
        "from sklearn.neighbors import KNeighborsRegressor\n",
        "from sklearn.metrics import explained_variance_score\n",
        "#from sklearn.metrics import mean_squared_error\n",
        "from sklearn.metrics import mean_absolute_error\n",
        "\n",
        "\n",
        "from keras.models import Sequential\n",
        "from keras.layers import Dense\n",
        "from keras.layers import Dropout\n",
        "from keras.utils import np_utils\n",
        "from keras.constraints import maxnorm\n",
        "\n",
        "# fix random seed for reproducibility\n",
        "seed = 7\n",
        "numpy.random.seed(seed)"
      ],
      "execution_count": 2,
      "outputs": []
    },
    {
      "cell_type": "code",
      "metadata": {
        "id": "URg8XiEvbKoI",
        "outputId": "809f3e20-a0ae-41a4-e69f-52f74a5ad639",
        "colab": {
          "base_uri": "https://localhost:8080/",
          "height": 326
        }
      },
      "source": [
        "dataframe = pandas.read_csv(\"/drive/My Drive/car_price/propulsion.csv\")#, header=None)\n",
        "dataframe.head(5)"
      ],
      "execution_count": 3,
      "outputs": [
        {
          "output_type": "execute_result",
          "data": {
            "text/html": [
              "<div>\n",
              "<style scoped>\n",
              "    .dataframe tbody tr th:only-of-type {\n",
              "        vertical-align: middle;\n",
              "    }\n",
              "\n",
              "    .dataframe tbody tr th {\n",
              "        vertical-align: top;\n",
              "    }\n",
              "\n",
              "    .dataframe thead th {\n",
              "        text-align: right;\n",
              "    }\n",
              "</style>\n",
              "<table border=\"1\" class=\"dataframe\">\n",
              "  <thead>\n",
              "    <tr style=\"text-align: right;\">\n",
              "      <th></th>\n",
              "      <th>Unnamed: 0</th>\n",
              "      <th>Lever position (lp) [ ]</th>\n",
              "      <th>Ship speed (v) [knots]</th>\n",
              "      <th>Gas Turbine shaft torque (GTT) [kN m]</th>\n",
              "      <th>Gas Turbine rate of revolutions (GTn) [rpm]</th>\n",
              "      <th>Gas Generator rate of revolutions (GGn) [rpm]</th>\n",
              "      <th>Starboard Propeller Torque (Ts) [kN]</th>\n",
              "      <th>Port Propeller Torque (Tp) [kN]</th>\n",
              "      <th>HP Turbine exit temperature (T48) [C]</th>\n",
              "      <th>GT Compressor inlet air temperature (T1) [C]</th>\n",
              "      <th>GT Compressor outlet air temperature (T2) [C]</th>\n",
              "      <th>HP Turbine exit pressure (P48) [bar]</th>\n",
              "      <th>GT Compressor inlet air pressure (P1) [bar]</th>\n",
              "      <th>GT Compressor outlet air pressure (P2) [bar]</th>\n",
              "      <th>Gas Turbine exhaust gas pressure (Pexh) [bar]</th>\n",
              "      <th>Turbine Injecton Control (TIC) [%]</th>\n",
              "      <th>Fuel flow (mf) [kg/s]</th>\n",
              "      <th>GT Compressor decay state coefficient.</th>\n",
              "      <th>GT Turbine decay state coefficient.</th>\n",
              "    </tr>\n",
              "  </thead>\n",
              "  <tbody>\n",
              "    <tr>\n",
              "      <th>0</th>\n",
              "      <td>0</td>\n",
              "      <td>9.300</td>\n",
              "      <td>27.0</td>\n",
              "      <td>72762.205</td>\n",
              "      <td>3560.393</td>\n",
              "      <td>9753.812</td>\n",
              "      <td>644.806</td>\n",
              "      <td>644.806</td>\n",
              "      <td>1086.583</td>\n",
              "      <td>288.0</td>\n",
              "      <td>780.304</td>\n",
              "      <td>4.523</td>\n",
              "      <td>0.998</td>\n",
              "      <td>22.879</td>\n",
              "      <td>1.050</td>\n",
              "      <td>90.435</td>\n",
              "      <td>1.790</td>\n",
              "      <td>0.973</td>\n",
              "      <td>0.978</td>\n",
              "    </tr>\n",
              "    <tr>\n",
              "      <th>1</th>\n",
              "      <td>1</td>\n",
              "      <td>6.175</td>\n",
              "      <td>18.0</td>\n",
              "      <td>29760.552</td>\n",
              "      <td>2306.825</td>\n",
              "      <td>8780.012</td>\n",
              "      <td>246.011</td>\n",
              "      <td>246.011</td>\n",
              "      <td>776.921</td>\n",
              "      <td>288.0</td>\n",
              "      <td>665.511</td>\n",
              "      <td>2.518</td>\n",
              "      <td>0.998</td>\n",
              "      <td>13.438</td>\n",
              "      <td>1.030</td>\n",
              "      <td>34.596</td>\n",
              "      <td>0.685</td>\n",
              "      <td>0.995</td>\n",
              "      <td>0.975</td>\n",
              "    </tr>\n",
              "    <tr>\n",
              "      <th>2</th>\n",
              "      <td>2</td>\n",
              "      <td>3.144</td>\n",
              "      <td>9.0</td>\n",
              "      <td>8375.774</td>\n",
              "      <td>1386.739</td>\n",
              "      <td>7051.621</td>\n",
              "      <td>60.318</td>\n",
              "      <td>60.318</td>\n",
              "      <td>589.764</td>\n",
              "      <td>288.0</td>\n",
              "      <td>580.587</td>\n",
              "      <td>1.392</td>\n",
              "      <td>0.998</td>\n",
              "      <td>7.566</td>\n",
              "      <td>1.020</td>\n",
              "      <td>12.477</td>\n",
              "      <td>0.247</td>\n",
              "      <td>0.980</td>\n",
              "      <td>0.978</td>\n",
              "    </tr>\n",
              "    <tr>\n",
              "      <th>3</th>\n",
              "      <td>3</td>\n",
              "      <td>3.144</td>\n",
              "      <td>9.0</td>\n",
              "      <td>8377.589</td>\n",
              "      <td>1386.748</td>\n",
              "      <td>7098.469</td>\n",
              "      <td>60.339</td>\n",
              "      <td>60.339</td>\n",
              "      <td>570.651</td>\n",
              "      <td>288.0</td>\n",
              "      <td>576.565</td>\n",
              "      <td>1.390</td>\n",
              "      <td>0.998</td>\n",
              "      <td>7.409</td>\n",
              "      <td>1.021</td>\n",
              "      <td>11.678</td>\n",
              "      <td>0.231</td>\n",
              "      <td>0.984</td>\n",
              "      <td>1.000</td>\n",
              "    </tr>\n",
              "    <tr>\n",
              "      <th>4</th>\n",
              "      <td>4</td>\n",
              "      <td>6.175</td>\n",
              "      <td>18.0</td>\n",
              "      <td>29761.091</td>\n",
              "      <td>2306.825</td>\n",
              "      <td>8782.024</td>\n",
              "      <td>246.021</td>\n",
              "      <td>246.021</td>\n",
              "      <td>769.855</td>\n",
              "      <td>288.0</td>\n",
              "      <td>663.682</td>\n",
              "      <td>2.518</td>\n",
              "      <td>0.998</td>\n",
              "      <td>13.374</td>\n",
              "      <td>1.031</td>\n",
              "      <td>34.154</td>\n",
              "      <td>0.676</td>\n",
              "      <td>0.998</td>\n",
              "      <td>0.980</td>\n",
              "    </tr>\n",
              "  </tbody>\n",
              "</table>\n",
              "</div>"
            ],
            "text/plain": [
              "   Unnamed: 0  ...  GT Turbine decay state coefficient.\n",
              "0           0  ...                                0.978\n",
              "1           1  ...                                0.975\n",
              "2           2  ...                                0.978\n",
              "3           3  ...                                1.000\n",
              "4           4  ...                                0.980\n",
              "\n",
              "[5 rows x 19 columns]"
            ]
          },
          "metadata": {
            "tags": []
          },
          "execution_count": 3
        }
      ]
    },
    {
      "cell_type": "code",
      "metadata": {
        "id": "f291a6U8LOBF"
      },
      "source": [
        "dataframe = dataframe.round(3)"
      ],
      "execution_count": 4,
      "outputs": []
    },
    {
      "cell_type": "code",
      "metadata": {
        "id": "nbJ1y-RnLOSB",
        "outputId": "6d082555-7d36-4470-be15-08b206907418",
        "colab": {
          "base_uri": "https://localhost:8080/"
        }
      },
      "source": [
        "print(\"Shape:\", dataframe.shape)"
      ],
      "execution_count": 5,
      "outputs": [
        {
          "output_type": "stream",
          "text": [
            "Shape: (10000, 19)\n"
          ],
          "name": "stdout"
        }
      ]
    },
    {
      "cell_type": "code",
      "metadata": {
        "id": "XGRcQYo5RmAw"
      },
      "source": [
        "dataframe = dataframe.iloc[:, 1:]"
      ],
      "execution_count": 6,
      "outputs": []
    },
    {
      "cell_type": "code",
      "metadata": {
        "id": "Iv-0WKigSbsR",
        "outputId": "35d66ec7-a232-4056-98c5-31fc972f1c23",
        "colab": {
          "base_uri": "https://localhost:8080/"
        }
      },
      "source": [
        "dataframe.info()"
      ],
      "execution_count": 7,
      "outputs": [
        {
          "output_type": "stream",
          "text": [
            "<class 'pandas.core.frame.DataFrame'>\n",
            "RangeIndex: 10000 entries, 0 to 9999\n",
            "Data columns (total 18 columns):\n",
            " #   Column                                         Non-Null Count  Dtype  \n",
            "---  ------                                         --------------  -----  \n",
            " 0   Lever position (lp) [ ]                        10000 non-null  float64\n",
            " 1   Ship speed (v) [knots]                         10000 non-null  float64\n",
            " 2   Gas Turbine shaft torque (GTT) [kN m]          10000 non-null  float64\n",
            " 3   Gas Turbine rate of revolutions (GTn) [rpm]    10000 non-null  float64\n",
            " 4   Gas Generator rate of revolutions (GGn) [rpm]  10000 non-null  float64\n",
            " 5   Starboard Propeller Torque (Ts) [kN]           10000 non-null  float64\n",
            " 6   Port Propeller Torque (Tp) [kN]                10000 non-null  float64\n",
            " 7   HP Turbine exit temperature (T48) [C]          10000 non-null  float64\n",
            " 8   GT Compressor inlet air temperature (T1) [C]   10000 non-null  float64\n",
            " 9   GT Compressor outlet air temperature (T2) [C]  10000 non-null  float64\n",
            " 10  HP Turbine exit pressure (P48) [bar]           10000 non-null  float64\n",
            " 11  GT Compressor inlet air pressure (P1) [bar]    10000 non-null  float64\n",
            " 12  GT Compressor outlet air pressure (P2) [bar]   10000 non-null  float64\n",
            " 13  Gas Turbine exhaust gas pressure (Pexh) [bar]  10000 non-null  float64\n",
            " 14  Turbine Injecton Control (TIC) [%]             10000 non-null  float64\n",
            " 15  Fuel flow (mf) [kg/s]                          10000 non-null  float64\n",
            " 16  GT Compressor decay state coefficient.         10000 non-null  float64\n",
            " 17  GT Turbine decay state coefficient.            10000 non-null  float64\n",
            "dtypes: float64(18)\n",
            "memory usage: 1.4 MB\n"
          ],
          "name": "stdout"
        }
      ]
    },
    {
      "cell_type": "code",
      "metadata": {
        "id": "UUrXD0MmRWkm"
      },
      "source": [
        "dataframe.columns = ['lever_position', 'ship_speed', 'gt_shaft', 'gt_rate', 'gg_rate', 'sp_torque', 'pp_torque', 'hpt_temp', 'gt_c_i_temp', 'gt_c_o_temp', 'hpt_pressure', 'gt_c_i_pressure', 'gt_c_o_pressure', 'gt_exhaust_pressure', 'turbine_inj_control', 'fuel_flow', 'gt_c_decay',  'gt_t_decay']"
      ],
      "execution_count": 8,
      "outputs": []
    },
    {
      "cell_type": "code",
      "metadata": {
        "id": "VhwNLIjCS_ww",
        "outputId": "5a270b27-aa01-42fe-db10-b9930d8014b0",
        "colab": {
          "base_uri": "https://localhost:8080/"
        }
      },
      "source": [
        "dataframe.info()"
      ],
      "execution_count": 9,
      "outputs": [
        {
          "output_type": "stream",
          "text": [
            "<class 'pandas.core.frame.DataFrame'>\n",
            "RangeIndex: 10000 entries, 0 to 9999\n",
            "Data columns (total 18 columns):\n",
            " #   Column               Non-Null Count  Dtype  \n",
            "---  ------               --------------  -----  \n",
            " 0   lever_position       10000 non-null  float64\n",
            " 1   ship_speed           10000 non-null  float64\n",
            " 2   gt_shaft             10000 non-null  float64\n",
            " 3   gt_rate              10000 non-null  float64\n",
            " 4   gg_rate              10000 non-null  float64\n",
            " 5   sp_torque            10000 non-null  float64\n",
            " 6   pp_torque            10000 non-null  float64\n",
            " 7   hpt_temp             10000 non-null  float64\n",
            " 8   gt_c_i_temp          10000 non-null  float64\n",
            " 9   gt_c_o_temp          10000 non-null  float64\n",
            " 10  hpt_pressure         10000 non-null  float64\n",
            " 11  gt_c_i_pressure      10000 non-null  float64\n",
            " 12  gt_c_o_pressure      10000 non-null  float64\n",
            " 13  gt_exhaust_pressure  10000 non-null  float64\n",
            " 14  turbine_inj_control  10000 non-null  float64\n",
            " 15  fuel_flow            10000 non-null  float64\n",
            " 16  gt_c_decay           10000 non-null  float64\n",
            " 17  gt_t_decay           10000 non-null  float64\n",
            "dtypes: float64(18)\n",
            "memory usage: 1.4 MB\n"
          ],
          "name": "stdout"
        }
      ]
    },
    {
      "cell_type": "code",
      "metadata": {
        "id": "r-hiIzxDUDWV",
        "outputId": "a510b258-bb60-4fd2-9d39-bda7d1dd902f",
        "colab": {
          "base_uri": "https://localhost:8080/"
        }
      },
      "source": [
        "print(\"Statistical Description:\", dataframe.describe())"
      ],
      "execution_count": 10,
      "outputs": [
        {
          "output_type": "stream",
          "text": [
            "Statistical Description:        lever_position    ship_speed  ...    gt_c_decay    gt_t_decay\n",
            "count    10000.000000  10000.000000  ...  10000.000000  10000.000000\n",
            "mean         5.150075     14.951400  ...      0.975021      0.987455\n",
            "std          2.624015      7.740467  ...      0.014734      0.007510\n",
            "min          1.138000      3.000000  ...      0.950000      0.975000\n",
            "25%          3.144000      9.000000  ...      0.962000      0.981000\n",
            "50%          5.140000     15.000000  ...      0.975000      0.987000\n",
            "75%          7.148000     21.000000  ...      0.988000      0.994000\n",
            "max          9.300000     27.000000  ...      1.000000      1.000000\n",
            "\n",
            "[8 rows x 18 columns]\n"
          ],
          "name": "stdout"
        }
      ]
    },
    {
      "cell_type": "code",
      "metadata": {
        "id": "zonpgpIsW_Pq",
        "outputId": "a5e935b7-48b6-4b08-8b62-e6259a6f84f7",
        "colab": {
          "base_uri": "https://localhost:8080/"
        }
      },
      "source": [
        "dataframe1 = dataframe['gt_c_i_temp']#,'gt_c_i_pressure']\n",
        "dataframe1.describe()"
      ],
      "execution_count": 11,
      "outputs": [
        {
          "output_type": "execute_result",
          "data": {
            "text/plain": [
              "count    10000.0\n",
              "mean       288.0\n",
              "std          0.0\n",
              "min        288.0\n",
              "25%        288.0\n",
              "50%        288.0\n",
              "75%        288.0\n",
              "max        288.0\n",
              "Name: gt_c_i_temp, dtype: float64"
            ]
          },
          "metadata": {
            "tags": []
          },
          "execution_count": 11
        }
      ]
    },
    {
      "cell_type": "code",
      "metadata": {
        "id": "41iWlaGKZCiH"
      },
      "source": [
        "dataframe = dataframe.drop([\"gt_c_i_temp\"],axis=1)"
      ],
      "execution_count": 12,
      "outputs": []
    },
    {
      "cell_type": "code",
      "metadata": {
        "id": "zItr1wAnZp4n",
        "outputId": "8f814a98-e28f-4485-9d80-ed1eb70c19dc",
        "colab": {
          "base_uri": "https://localhost:8080/"
        }
      },
      "source": [
        "print(\"Shape:\", dataframe.shape)"
      ],
      "execution_count": 13,
      "outputs": [
        {
          "output_type": "stream",
          "text": [
            "Shape: (10000, 17)\n"
          ],
          "name": "stdout"
        }
      ]
    },
    {
      "cell_type": "code",
      "metadata": {
        "id": "tFiw2CZgZqEF",
        "outputId": "55752b38-3e28-4684-c2be-0f16ed18c845",
        "colab": {
          "base_uri": "https://localhost:8080/"
        }
      },
      "source": [
        "print(\"Data Types:\", dataframe.dtypes)"
      ],
      "execution_count": 14,
      "outputs": [
        {
          "output_type": "stream",
          "text": [
            "Data Types: lever_position         float64\n",
            "ship_speed             float64\n",
            "gt_shaft               float64\n",
            "gt_rate                float64\n",
            "gg_rate                float64\n",
            "sp_torque              float64\n",
            "pp_torque              float64\n",
            "hpt_temp               float64\n",
            "gt_c_o_temp            float64\n",
            "hpt_pressure           float64\n",
            "gt_c_i_pressure        float64\n",
            "gt_c_o_pressure        float64\n",
            "gt_exhaust_pressure    float64\n",
            "turbine_inj_control    float64\n",
            "fuel_flow              float64\n",
            "gt_c_decay             float64\n",
            "gt_t_decay             float64\n",
            "dtype: object\n"
          ],
          "name": "stdout"
        }
      ]
    },
    {
      "cell_type": "code",
      "metadata": {
        "id": "nt_pl0X3ZqDb"
      },
      "source": [
        "dataset = dataframe.values\n"
      ],
      "execution_count": 15,
      "outputs": []
    },
    {
      "cell_type": "code",
      "metadata": {
        "id": "YWzS7-B9Z6sA"
      },
      "source": [
        "X = dataset[:,0:15]\n",
        "Y = dataset[:,15]\n",
        "Y2 = dataset[:,16] "
      ],
      "execution_count": 16,
      "outputs": []
    },
    {
      "cell_type": "code",
      "metadata": {
        "id": "INc2UmcqZ6yK"
      },
      "source": [
        "#Feature Selection\n",
        "model = ExtraTreesRegressor()\n",
        "rfe = RFE(model, 3)\n",
        "fit = rfe.fit(X, Y)"
      ],
      "execution_count": 17,
      "outputs": []
    },
    {
      "cell_type": "code",
      "metadata": {
        "id": "G8dbQ3pdZ6wg",
        "outputId": "cbd9a975-bc48-43e4-fe58-edab8de36bf7",
        "colab": {
          "base_uri": "https://localhost:8080/"
        }
      },
      "source": [
        "print(\"Number of Features: \", fit.n_features_)\n",
        "print(\"Selected Features: \", fit.support_)\n",
        "print(\"Feature Ranking: \", fit.ranking_)"
      ],
      "execution_count": 18,
      "outputs": [
        {
          "output_type": "stream",
          "text": [
            "Number of Features:  3\n",
            "Selected Features:  [False False False False  True False False False  True False False False\n",
            "  True False False]\n",
            "Feature Ranking:  [11 12  2  5  1  7  6  4  1  3 13  9  1 10  8]\n"
          ],
          "name": "stdout"
        }
      ]
    },
    {
      "cell_type": "code",
      "metadata": {
        "id": "LNfVGy2lZ6rZ",
        "outputId": "67dff22c-79df-4141-c3cc-5f1f703113c1",
        "colab": {
          "base_uri": "https://localhost:8080/"
        }
      },
      "source": [
        "#Feature Selection\n",
        "model = ExtraTreesRegressor()\n",
        "rfe = RFE(model, 3)\n",
        "fit = rfe.fit(X, Y2)\n",
        "\n",
        "print(\"Number of Features: \", fit.n_features_)\n",
        "print(\"Selected Features: \", fit.support_)\n",
        "print(\"Feature Ranking: \", fit.ranking_) "
      ],
      "execution_count": 19,
      "outputs": [
        {
          "output_type": "stream",
          "text": [
            "Number of Features:  3\n",
            "Selected Features:  [False False False False  True False False False False False False  True\n",
            " False False  True]\n",
            "Feature Ranking:  [11 12  3  4  1  9 10  5  8  7 13  1  6  2  1]\n"
          ],
          "name": "stdout"
        }
      ]
    },
    {
      "cell_type": "code",
      "metadata": {
        "id": "8-CoMVjla6ki",
        "outputId": "0bf2c772-36f1-444f-e256-fb6a66963421",
        "colab": {
          "base_uri": "https://localhost:8080/",
          "height": 645
        }
      },
      "source": [
        "dataframe.hist()"
      ],
      "execution_count": 20,
      "outputs": [
        {
          "output_type": "execute_result",
          "data": {
            "text/plain": [
              "array([[<matplotlib.axes._subplots.AxesSubplot object at 0x7fabe89210b8>,\n",
              "        <matplotlib.axes._subplots.AxesSubplot object at 0x7fabe88c1550>,\n",
              "        <matplotlib.axes._subplots.AxesSubplot object at 0x7fabe88737b8>,\n",
              "        <matplotlib.axes._subplots.AxesSubplot object at 0x7fabe8827a20>],\n",
              "       [<matplotlib.axes._subplots.AxesSubplot object at 0x7fabe87dac88>,\n",
              "        <matplotlib.axes._subplots.AxesSubplot object at 0x7fabe87945f8>,\n",
              "        <matplotlib.axes._subplots.AxesSubplot object at 0x7fabe87c8978>,\n",
              "        <matplotlib.axes._subplots.AxesSubplot object at 0x7fabe8778cc0>],\n",
              "       [<matplotlib.axes._subplots.AxesSubplot object at 0x7fabe8778d30>,\n",
              "        <matplotlib.axes._subplots.AxesSubplot object at 0x7fabe86e9438>,\n",
              "        <matplotlib.axes._subplots.AxesSubplot object at 0x7fabe86997b8>,\n",
              "        <matplotlib.axes._subplots.AxesSubplot object at 0x7fabe86ccb38>],\n",
              "       [<matplotlib.axes._subplots.AxesSubplot object at 0x7fabe867ceb8>,\n",
              "        <matplotlib.axes._subplots.AxesSubplot object at 0x7fabe863c278>,\n",
              "        <matplotlib.axes._subplots.AxesSubplot object at 0x7fabe85eb5f8>,\n",
              "        <matplotlib.axes._subplots.AxesSubplot object at 0x7fabe859e978>],\n",
              "       [<matplotlib.axes._subplots.AxesSubplot object at 0x7fabe85d0cf8>,\n",
              "        <matplotlib.axes._subplots.AxesSubplot object at 0x7fabe858d0b8>,\n",
              "        <matplotlib.axes._subplots.AxesSubplot object at 0x7fabe8541438>,\n",
              "        <matplotlib.axes._subplots.AxesSubplot object at 0x7fabe84f17b8>]],\n",
              "      dtype=object)"
            ]
          },
          "metadata": {
            "tags": []
          },
          "execution_count": 20
        },
        {
          "output_type": "display_data",
          "data": {
            "image/png": "[encoded data removed]",
            "text/plain": [
              "<Figure size 432x288 with 20 Axes>"
            ]
          },
          "metadata": {
            "tags": [],
            "needs_background": "light"
          }
        }
      ]
    },
    {
      "cell_type": "code",
      "metadata": {
        "id": "CifTNZ20bo95",
        "outputId": "41da7d50-18ef-4bc3-9926-b0b6369b42d3",
        "colab": {
          "base_uri": "https://localhost:8080/"
        }
      },
      "source": [
        "# Split Data to Train and Test\n",
        "X_Train, X_Test, Y_Train, Y_Test = train_test_split(X, Y, test_size=0.2)\n",
        "\n",
        "num_instances = len(X)\n",
        "\n",
        "models = []\n",
        "models.append(('LiR', LinearRegression()))\n",
        "models.append(('Ridge', Ridge()))\n",
        "models.append(('Bag_Re', BaggingRegressor()))\n",
        "models.append(('RandomForest', RandomForestRegressor()))\n",
        "models.append(('ExtraTreesRegressor', ExtraTreesRegressor()))\n",
        "models.append(('KNN', KNeighborsRegressor()))\n",
        "models.append(('CART', DecisionTreeRegressor()))\n",
        "\n",
        "# Evaluations\n",
        "results = []\n",
        "names = []\n",
        "scoring = []\n",
        "\n",
        "for name, model in models:\n",
        "    # Fit the model\n",
        "    model.fit(X_Train, Y_Train)\n",
        "    \n",
        "    predictions = model.predict(X_Test)\n",
        "    \n",
        "    # Evaluate the model\n",
        "    score = explained_variance_score(Y_Test, predictions)\n",
        "    mae = mean_absolute_error(predictions, Y_Test)\n",
        "    # print(\"%s: %.2f%%\" % (model.metrics_names[1], scores[1]*100))\n",
        "    results.append(mae)\n",
        "    names.append(name)\n",
        "    \n",
        "    msg = \"%s: %f (%f)\" % (name, score, mae)\n",
        "    print(msg)\n"
      ],
      "execution_count": 21,
      "outputs": [
        {
          "output_type": "stream",
          "text": [
            "LiR: 0.842654 (0.004510)\n",
            "Ridge: 0.822733 (0.005060)\n",
            "Bag_Re: 0.991014 (0.000693)\n",
            "RandomForest: 0.993167 (0.000600)\n",
            "ExtraTreesRegressor: 0.997383 (0.000376)\n",
            "KNN: 0.918083 (0.001626)\n",
            "CART: 0.977647 (0.001093)\n"
          ],
          "name": "stdout"
        }
      ]
    },
    {
      "cell_type": "markdown",
      "metadata": {
        "id": "74IkS2GNeHrQ"
      },
      "source": [
        "## **save the model**"
      ]
    },
    {
      "cell_type": "code",
      "metadata": {
        "id": "47EbD-E0b_SM"
      },
      "source": [
        "import pickle \n",
        "model1 = ExtraTreesRegressor()\n",
        "model1.fit(X_Train, Y_Train)\n",
        "model_GT_C_D1 = '/drive/My Drive/car_price/finalized_model_GT_C_D1.sav'\n",
        "pickle.dump(model1, open(model_GT_C_D1, 'wb'))"
      ],
      "execution_count": 24,
      "outputs": []
    },
    {
      "cell_type": "code",
      "metadata": {
        "id": "rKw3FsnObpLI",
        "outputId": "c8a99913-0361-4b98-9565-8fbb866798be",
        "colab": {
          "base_uri": "https://localhost:8080/"
        }
      },
      "source": [
        "# Split Data to Train and Test\n",
        "X_Train, X_Test, Y_Train, Y_Test = train_test_split(X, Y2, test_size=0.2)\n",
        "\n",
        "num_instances = len(X)\n",
        "\n",
        "models = []\n",
        "models.append(('LiR', LinearRegression()))\n",
        "models.append(('Ridge', Ridge()))\n",
        "models.append(('Bag_Re', BaggingRegressor()))\n",
        "models.append(('RandomForest', RandomForestRegressor()))\n",
        "models.append(('ExtraTreesRegressor', ExtraTreesRegressor()))\n",
        "models.append(('KNN', KNeighborsRegressor()))\n",
        "models.append(('CART', DecisionTreeRegressor()))\n",
        "\n",
        "# Evaluations\n",
        "results = []\n",
        "names = []\n",
        "scoring = []\n",
        "\n",
        "for name, model in models:\n",
        "    # Fit the model\n",
        "    model.fit(X_Train, Y_Train)\n",
        "    \n",
        "    predictions = model.predict(X_Test)\n",
        "    \n",
        "    # Evaluate the model\n",
        "    score = explained_variance_score(Y_Test, predictions)\n",
        "    mae = mean_absolute_error(predictions, Y_Test)\n",
        "    # print(\"%s: %.2f%%\" % (model.metrics_names[1], scores[1]*100))\n",
        "    results.append(mae)\n",
        "    names.append(name)\n",
        "    \n",
        "    msg = \"%s: %f (%f)\" % (name, score, mae)\n",
        "    print(msg)"
      ],
      "execution_count": 25,
      "outputs": [
        {
          "output_type": "stream",
          "text": [
            "LiR: 0.911665 (0.001698)\n",
            "Ridge: 0.861165 (0.002125)\n",
            "Bag_Re: 0.988691 (0.000430)\n",
            "RandomForest: 0.990088 (0.000371)\n",
            "ExtraTreesRegressor: 0.993311 (0.000246)\n",
            "KNN: 0.858602 (0.001220)\n",
            "CART: 0.970659 (0.000616)\n"
          ],
          "name": "stdout"
        }
      ]
    },
    {
      "cell_type": "code",
      "metadata": {
        "id": "HgE91JUvb8fr"
      },
      "source": [
        "model1 = ExtraTreesRegressor()\n",
        "model1.fit(X_Train, Y_Train)\n",
        "model_GT_T_D1 = '/drive/My Drive/car_price/finalized_model_GT_T_D1.sav'\n",
        "pickle.dump(model1, open(model_GT_T_D1, 'wb'))"
      ],
      "execution_count": 26,
      "outputs": []
    },
    {
      "cell_type": "code",
      "metadata": {
        "id": "EB_GzWkgbpQh",
        "outputId": "8a0d7f0c-b561-4bbe-93ba-72637312b5ff",
        "colab": {
          "base_uri": "https://localhost:8080/"
        }
      },
      "source": [
        "# Split Data to Train and Test\n",
        "X_Train, X_Test, Y_Train, Y_Test = train_test_split(X, Y, test_size=0.3)\n",
        "\n",
        "\n",
        "\n",
        "\n",
        "# create model\n",
        "model = Sequential()\n",
        "model.add(Dense(6, input_dim=15, kernel_initializer='random_uniform', activation='relu'))\n",
        "model.add(Dropout(0.2))\n",
        "model.add(Dense(4, kernel_initializer='random_uniform', activation='relu', kernel_constraint=maxnorm(3)))\n",
        "model.add(Dropout(0.2))\n",
        "model.add(Dense(2, kernel_initializer='random_uniform', activation='relu'))\n",
        "model.add(Dense(1, kernel_initializer='random_uniform', activation='relu'))\n",
        "\n",
        "# Compile model\n",
        "model.compile(loss='mean_absolute_error', optimizer='adam')\n",
        "\n",
        "# Fit the model\n",
        "model.fit(X_Train, Y_Train, epochs=100, batch_size=10)\n",
        "\n",
        "# Evaluate the model\n",
        "scores = model.evaluate(X_Test, Y_Test)\n",
        "print(\"score: %.2f%%\" % (100-scores))\n",
        "\n"
      ],
      "execution_count": 28,
      "outputs": [
        {
          "output_type": "stream",
          "text": [
            "Epoch 1/100\n",
            "700/700 [==============================] - 1s 953us/step - loss: 0.1928\n",
            "Epoch 2/100\n",
            "700/700 [==============================] - 1s 950us/step - loss: 0.0726\n",
            "Epoch 3/100\n",
            "700/700 [==============================] - 1s 916us/step - loss: 0.0451\n",
            "Epoch 4/100\n",
            "700/700 [==============================] - 1s 926us/step - loss: 0.0235\n",
            "Epoch 5/100\n",
            "700/700 [==============================] - 1s 945us/step - loss: 0.0159\n",
            "Epoch 6/100\n",
            "700/700 [==============================] - 1s 918us/step - loss: 0.0159\n",
            "Epoch 7/100\n",
            "700/700 [==============================] - 1s 901us/step - loss: 0.0148\n",
            "Epoch 8/100\n",
            "700/700 [==============================] - 1s 926us/step - loss: 0.0148\n",
            "Epoch 9/100\n",
            "700/700 [==============================] - 1s 931us/step - loss: 0.0144\n",
            "Epoch 10/100\n",
            "700/700 [==============================] - 1s 917us/step - loss: 0.0139\n",
            "Epoch 11/100\n",
            "700/700 [==============================] - 1s 956us/step - loss: 0.0132\n",
            "Epoch 12/100\n",
            "700/700 [==============================] - 1s 929us/step - loss: 0.0130\n",
            "Epoch 13/100\n",
            "700/700 [==============================] - 1s 958us/step - loss: 0.0130\n",
            "Epoch 14/100\n",
            "700/700 [==============================] - 1s 983us/step - loss: 0.0130\n",
            "Epoch 15/100\n",
            "700/700 [==============================] - 1s 913us/step - loss: 0.0130\n",
            "Epoch 16/100\n",
            "700/700 [==============================] - 1s 995us/step - loss: 0.0130\n",
            "Epoch 17/100\n",
            "700/700 [==============================] - 1s 927us/step - loss: 0.0129\n",
            "Epoch 18/100\n",
            "700/700 [==============================] - 1s 924us/step - loss: 0.0130\n",
            "Epoch 19/100\n",
            "700/700 [==============================] - 1s 932us/step - loss: 0.0130\n",
            "Epoch 20/100\n",
            "700/700 [==============================] - 1s 919us/step - loss: 0.0130\n",
            "Epoch 21/100\n",
            "700/700 [==============================] - 1s 908us/step - loss: 0.0131\n",
            "Epoch 22/100\n",
            "700/700 [==============================] - 1s 967us/step - loss: 0.0130\n",
            "Epoch 23/100\n",
            "700/700 [==============================] - 1s 917us/step - loss: 0.0129\n",
            "Epoch 24/100\n",
            "700/700 [==============================] - 1s 925us/step - loss: 0.0130\n",
            "Epoch 25/100\n",
            "700/700 [==============================] - 1s 945us/step - loss: 0.0131\n",
            "Epoch 26/100\n",
            "700/700 [==============================] - 1s 916us/step - loss: 0.0130\n",
            "Epoch 27/100\n",
            "700/700 [==============================] - 1s 948us/step - loss: 0.0130\n",
            "Epoch 28/100\n",
            "700/700 [==============================] - 1s 947us/step - loss: 0.0131\n",
            "Epoch 29/100\n",
            "700/700 [==============================] - 1s 1ms/step - loss: 0.0130\n",
            "Epoch 30/100\n",
            "700/700 [==============================] - 1s 934us/step - loss: 0.0130\n",
            "Epoch 31/100\n",
            "700/700 [==============================] - 1s 937us/step - loss: 0.0130\n",
            "Epoch 32/100\n",
            "700/700 [==============================] - 1s 964us/step - loss: 0.0130\n",
            "Epoch 33/100\n",
            "700/700 [==============================] - 1s 1ms/step - loss: 0.0130\n",
            "Epoch 34/100\n",
            "700/700 [==============================] - 1s 995us/step - loss: 0.0129\n",
            "Epoch 35/100\n",
            "700/700 [==============================] - 1s 1ms/step - loss: 0.0131\n",
            "Epoch 36/100\n",
            "700/700 [==============================] - 1s 917us/step - loss: 0.0130\n",
            "Epoch 37/100\n",
            "700/700 [==============================] - 1s 948us/step - loss: 0.0130\n",
            "Epoch 38/100\n",
            "700/700 [==============================] - 1s 930us/step - loss: 0.0130\n",
            "Epoch 39/100\n",
            "700/700 [==============================] - 1s 921us/step - loss: 0.0129\n",
            "Epoch 40/100\n",
            "700/700 [==============================] - 1s 991us/step - loss: 0.0129\n",
            "Epoch 41/100\n",
            "700/700 [==============================] - 1s 1ms/step - loss: 0.0131\n",
            "Epoch 42/100\n",
            "700/700 [==============================] - 1s 924us/step - loss: 0.0130\n",
            "Epoch 43/100\n",
            "700/700 [==============================] - 1s 965us/step - loss: 0.0130\n",
            "Epoch 44/100\n",
            "700/700 [==============================] - 1s 931us/step - loss: 0.0130\n",
            "Epoch 45/100\n",
            "700/700 [==============================] - 1s 945us/step - loss: 0.0130\n",
            "Epoch 46/100\n",
            "700/700 [==============================] - 1s 1ms/step - loss: 0.0130\n",
            "Epoch 47/100\n",
            "700/700 [==============================] - 1s 1ms/step - loss: 0.0130\n",
            "Epoch 48/100\n",
            "700/700 [==============================] - 1s 986us/step - loss: 0.0130\n",
            "Epoch 49/100\n",
            "700/700 [==============================] - 1s 933us/step - loss: 0.0130\n",
            "Epoch 50/100\n",
            "700/700 [==============================] - 1s 961us/step - loss: 0.0130\n",
            "Epoch 51/100\n",
            "700/700 [==============================] - 1s 1ms/step - loss: 0.0130\n",
            "Epoch 52/100\n",
            "700/700 [==============================] - 1s 1ms/step - loss: 0.0130\n",
            "Epoch 53/100\n",
            "700/700 [==============================] - 1s 965us/step - loss: 0.0130\n",
            "Epoch 54/100\n",
            "700/700 [==============================] - 1s 949us/step - loss: 0.0130\n",
            "Epoch 55/100\n",
            "700/700 [==============================] - 1s 917us/step - loss: 0.0130\n",
            "Epoch 56/100\n",
            "700/700 [==============================] - 1s 955us/step - loss: 0.0130\n",
            "Epoch 57/100\n",
            "700/700 [==============================] - 1s 975us/step - loss: 0.0130\n",
            "Epoch 58/100\n",
            "700/700 [==============================] - 1s 926us/step - loss: 0.0130\n",
            "Epoch 59/100\n",
            "700/700 [==============================] - 1s 986us/step - loss: 0.0130\n",
            "Epoch 60/100\n",
            "700/700 [==============================] - 1s 949us/step - loss: 0.0129\n",
            "Epoch 61/100\n",
            "700/700 [==============================] - 1s 919us/step - loss: 0.0130\n",
            "Epoch 62/100\n",
            "700/700 [==============================] - 1s 1ms/step - loss: 0.0129\n",
            "Epoch 63/100\n",
            "700/700 [==============================] - 1s 1ms/step - loss: 0.0130\n",
            "Epoch 64/100\n",
            "700/700 [==============================] - 1s 915us/step - loss: 0.0131\n",
            "Epoch 65/100\n",
            "700/700 [==============================] - 1s 1ms/step - loss: 0.0130\n",
            "Epoch 66/100\n",
            "700/700 [==============================] - 1s 991us/step - loss: 0.0130\n",
            "Epoch 67/100\n",
            "700/700 [==============================] - 1s 939us/step - loss: 0.0130\n",
            "Epoch 68/100\n",
            "700/700 [==============================] - 1s 978us/step - loss: 0.0130\n",
            "Epoch 69/100\n",
            "700/700 [==============================] - 1s 952us/step - loss: 0.0129\n",
            "Epoch 70/100\n",
            "700/700 [==============================] - 1s 1ms/step - loss: 0.0130\n",
            "Epoch 71/100\n",
            "700/700 [==============================] - 1s 951us/step - loss: 0.0130\n",
            "Epoch 72/100\n",
            "700/700 [==============================] - 1s 938us/step - loss: 0.0130\n",
            "Epoch 73/100\n",
            "700/700 [==============================] - 1s 930us/step - loss: 0.0129\n",
            "Epoch 74/100\n",
            "700/700 [==============================] - 1s 927us/step - loss: 0.0130\n",
            "Epoch 75/100\n",
            "700/700 [==============================] - 1s 1ms/step - loss: 0.0129\n",
            "Epoch 76/100\n",
            "700/700 [==============================] - 1s 1ms/step - loss: 0.0129\n",
            "Epoch 77/100\n",
            "700/700 [==============================] - 1s 945us/step - loss: 0.0129\n",
            "Epoch 78/100\n",
            "700/700 [==============================] - 1s 957us/step - loss: 0.0130\n",
            "Epoch 79/100\n",
            "700/700 [==============================] - 1s 944us/step - loss: 0.0130\n",
            "Epoch 80/100\n",
            "700/700 [==============================] - 1s 947us/step - loss: 0.0130\n",
            "Epoch 81/100\n",
            "700/700 [==============================] - 1s 1ms/step - loss: 0.0130\n",
            "Epoch 82/100\n",
            "700/700 [==============================] - 1s 974us/step - loss: 0.0130\n",
            "Epoch 83/100\n",
            "700/700 [==============================] - 1s 962us/step - loss: 0.0130\n",
            "Epoch 84/100\n",
            "700/700 [==============================] - 1s 954us/step - loss: 0.0129\n",
            "Epoch 85/100\n",
            "700/700 [==============================] - 1s 933us/step - loss: 0.0129\n",
            "Epoch 86/100\n",
            "700/700 [==============================] - 1s 931us/step - loss: 0.0129\n",
            "Epoch 87/100\n",
            "700/700 [==============================] - 1s 953us/step - loss: 0.0131\n",
            "Epoch 88/100\n",
            "700/700 [==============================] - 1s 921us/step - loss: 0.0129\n",
            "Epoch 89/100\n",
            "700/700 [==============================] - 1s 942us/step - loss: 0.0129\n",
            "Epoch 90/100\n",
            "700/700 [==============================] - 1s 985us/step - loss: 0.0130\n",
            "Epoch 91/100\n",
            "700/700 [==============================] - 1s 945us/step - loss: 0.0130\n",
            "Epoch 92/100\n",
            "700/700 [==============================] - 1s 948us/step - loss: 0.0130\n",
            "Epoch 93/100\n",
            "700/700 [==============================] - 1s 937us/step - loss: 0.0130\n",
            "Epoch 94/100\n",
            "700/700 [==============================] - 1s 933us/step - loss: 0.0129\n",
            "Epoch 95/100\n",
            "700/700 [==============================] - 1s 947us/step - loss: 0.0130\n",
            "Epoch 96/100\n",
            "700/700 [==============================] - 1s 959us/step - loss: 0.0129\n",
            "Epoch 97/100\n",
            "700/700 [==============================] - 1s 995us/step - loss: 0.0130\n",
            "Epoch 98/100\n",
            "700/700 [==============================] - 1s 1ms/step - loss: 0.0130\n",
            "Epoch 99/100\n",
            "700/700 [==============================] - 1s 1ms/step - loss: 0.0130\n",
            "Epoch 100/100\n",
            "700/700 [==============================] - 1s 925us/step - loss: 0.0130\n",
            "94/94 [==============================] - 0s 768us/step - loss: 0.0130\n",
            "score: 99.99%\n"
          ],
          "name": "stdout"
        }
      ]
    },
    {
      "cell_type": "code",
      "metadata": {
        "id": "TLDifkacbpXQ",
        "outputId": "0a9a57e6-28d2-46cd-a93c-6ad692565997",
        "colab": {
          "base_uri": "https://localhost:8080/"
        }
      },
      "source": [
        "# Split Data to Train and Test\n",
        "X_Train, X_Test, Y_Train, Y_Test = train_test_split(X, Y2, test_size=0.3)\n",
        "\n",
        "\n",
        "\n",
        "\n",
        "# create model\n",
        "model = Sequential()\n",
        "model.add(Dense(6, input_dim=15, kernel_initializer='random_uniform', activation='relu'))\n",
        "model.add(Dropout(0.2))\n",
        "model.add(Dense(4, kernel_initializer='random_uniform', activation='relu', kernel_constraint=maxnorm(3)))\n",
        "model.add(Dropout(0.2))\n",
        "model.add(Dense(2, kernel_initializer='random_uniform', activation='relu'))\n",
        "model.add(Dense(1, kernel_initializer='random_uniform', activation='relu'))\n",
        "\n",
        "# Compile model\n",
        "model.compile(loss='mean_absolute_error', optimizer='adam')\n",
        "\n",
        "# Fit the model\n",
        "model.fit(X_Train, Y_Train, epochs=100, batch_size=10)\n",
        "\n",
        "# Evaluate the model\n",
        "scores = model.evaluate(X_Test, Y_Test)\n",
        "print(\"score: %.2f%%\" % (100-scores))\n",
        "\n"
      ],
      "execution_count": 32,
      "outputs": [
        {
          "output_type": "stream",
          "text": [
            "Epoch 1/100\n",
            "700/700 [==============================] - 1s 936us/step - loss: 0.2651\n",
            "Epoch 2/100\n",
            "700/700 [==============================] - 1s 941us/step - loss: 0.0787\n",
            "Epoch 3/100\n",
            "700/700 [==============================] - 1s 922us/step - loss: 0.0075\n",
            "Epoch 4/100\n",
            "700/700 [==============================] - 1s 928us/step - loss: 0.0068\n",
            "Epoch 5/100\n",
            "700/700 [==============================] - 1s 990us/step - loss: 0.0067\n",
            "Epoch 6/100\n",
            "700/700 [==============================] - 1s 952us/step - loss: 0.0068\n",
            "Epoch 7/100\n",
            "700/700 [==============================] - 1s 1ms/step - loss: 0.0068\n",
            "Epoch 8/100\n",
            "700/700 [==============================] - 1s 951us/step - loss: 0.0067\n",
            "Epoch 9/100\n",
            "700/700 [==============================] - 1s 968us/step - loss: 0.0067\n",
            "Epoch 10/100\n",
            "700/700 [==============================] - 1s 971us/step - loss: 0.0068\n",
            "Epoch 11/100\n",
            "700/700 [==============================] - 1s 976us/step - loss: 0.0067\n",
            "Epoch 12/100\n",
            "700/700 [==============================] - 1s 965us/step - loss: 0.0067\n",
            "Epoch 13/100\n",
            "700/700 [==============================] - 1s 953us/step - loss: 0.0067\n",
            "Epoch 14/100\n",
            "700/700 [==============================] - 1s 959us/step - loss: 0.0067\n",
            "Epoch 15/100\n",
            "700/700 [==============================] - 1s 949us/step - loss: 0.0068\n",
            "Epoch 16/100\n",
            "700/700 [==============================] - 1s 1ms/step - loss: 0.0067\n",
            "Epoch 17/100\n",
            "700/700 [==============================] - 1s 966us/step - loss: 0.0068\n",
            "Epoch 18/100\n",
            "700/700 [==============================] - 1s 953us/step - loss: 0.0067\n",
            "Epoch 19/100\n",
            "700/700 [==============================] - 1s 997us/step - loss: 0.0067\n",
            "Epoch 20/100\n",
            "700/700 [==============================] - 1s 1ms/step - loss: 0.0067\n",
            "Epoch 21/100\n",
            "700/700 [==============================] - 1s 1ms/step - loss: 0.0068\n",
            "Epoch 22/100\n",
            "700/700 [==============================] - 1s 1ms/step - loss: 0.0067\n",
            "Epoch 23/100\n",
            "700/700 [==============================] - 1s 1ms/step - loss: 0.0067\n",
            "Epoch 24/100\n",
            "700/700 [==============================] - 1s 1ms/step - loss: 0.0067\n",
            "Epoch 25/100\n",
            "700/700 [==============================] - 1s 1ms/step - loss: 0.0067\n",
            "Epoch 26/100\n",
            "700/700 [==============================] - 1s 1ms/step - loss: 0.0067\n",
            "Epoch 27/100\n",
            "700/700 [==============================] - 1s 1ms/step - loss: 0.0067\n",
            "Epoch 28/100\n",
            "700/700 [==============================] - 1s 989us/step - loss: 0.0068\n",
            "Epoch 29/100\n",
            "700/700 [==============================] - 1s 959us/step - loss: 0.0067\n",
            "Epoch 30/100\n",
            "700/700 [==============================] - 1s 1ms/step - loss: 0.0067\n",
            "Epoch 31/100\n",
            "700/700 [==============================] - 1s 1ms/step - loss: 0.0067\n",
            "Epoch 32/100\n",
            "700/700 [==============================] - 1s 995us/step - loss: 0.0067\n",
            "Epoch 33/100\n",
            "700/700 [==============================] - 1s 1ms/step - loss: 0.0067\n",
            "Epoch 34/100\n",
            "700/700 [==============================] - 1s 941us/step - loss: 0.0068\n",
            "Epoch 35/100\n",
            "700/700 [==============================] - 1s 1ms/step - loss: 0.0067\n",
            "Epoch 36/100\n",
            "700/700 [==============================] - 1s 1ms/step - loss: 0.0067\n",
            "Epoch 37/100\n",
            "700/700 [==============================] - 1s 957us/step - loss: 0.0067\n",
            "Epoch 38/100\n",
            "700/700 [==============================] - 1s 967us/step - loss: 0.0068\n",
            "Epoch 39/100\n",
            "700/700 [==============================] - 1s 932us/step - loss: 0.0068\n",
            "Epoch 40/100\n",
            "700/700 [==============================] - 1s 945us/step - loss: 0.0067\n",
            "Epoch 41/100\n",
            "700/700 [==============================] - 1s 955us/step - loss: 0.0068\n",
            "Epoch 42/100\n",
            "700/700 [==============================] - 1s 944us/step - loss: 0.0067\n",
            "Epoch 43/100\n",
            "700/700 [==============================] - 1s 958us/step - loss: 0.0067\n",
            "Epoch 44/100\n",
            "700/700 [==============================] - 1s 1ms/step - loss: 0.0067\n",
            "Epoch 45/100\n",
            "700/700 [==============================] - 1s 1ms/step - loss: 0.0067\n",
            "Epoch 46/100\n",
            "700/700 [==============================] - 1s 1ms/step - loss: 0.0067\n",
            "Epoch 47/100\n",
            "700/700 [==============================] - 1s 970us/step - loss: 0.0068\n",
            "Epoch 48/100\n",
            "700/700 [==============================] - 1s 1ms/step - loss: 0.0067\n",
            "Epoch 49/100\n",
            "700/700 [==============================] - 1s 1ms/step - loss: 0.0067\n",
            "Epoch 50/100\n",
            "700/700 [==============================] - 1s 969us/step - loss: 0.0067\n",
            "Epoch 51/100\n",
            "700/700 [==============================] - 1s 986us/step - loss: 0.0067\n",
            "Epoch 52/100\n",
            "700/700 [==============================] - 1s 1ms/step - loss: 0.0067\n",
            "Epoch 53/100\n",
            "700/700 [==============================] - 1s 954us/step - loss: 0.0067\n",
            "Epoch 54/100\n",
            "700/700 [==============================] - 1s 962us/step - loss: 0.0068\n",
            "Epoch 55/100\n",
            "700/700 [==============================] - 1s 973us/step - loss: 0.0067\n",
            "Epoch 56/100\n",
            "700/700 [==============================] - 1s 972us/step - loss: 0.0067\n",
            "Epoch 57/100\n",
            "700/700 [==============================] - 1s 970us/step - loss: 0.0067\n",
            "Epoch 58/100\n",
            "700/700 [==============================] - 1s 974us/step - loss: 0.0067\n",
            "Epoch 59/100\n",
            "700/700 [==============================] - 1s 964us/step - loss: 0.0068\n",
            "Epoch 60/100\n",
            "700/700 [==============================] - 1s 949us/step - loss: 0.0068\n",
            "Epoch 61/100\n",
            "700/700 [==============================] - 1s 962us/step - loss: 0.0068\n",
            "Epoch 62/100\n",
            "700/700 [==============================] - 1s 999us/step - loss: 0.0067\n",
            "Epoch 63/100\n",
            "700/700 [==============================] - 1s 973us/step - loss: 0.0067\n",
            "Epoch 64/100\n",
            "700/700 [==============================] - 1s 1ms/step - loss: 0.0067\n",
            "Epoch 65/100\n",
            "700/700 [==============================] - 1s 977us/step - loss: 0.0068\n",
            "Epoch 66/100\n",
            "700/700 [==============================] - 1s 991us/step - loss: 0.0067\n",
            "Epoch 67/100\n",
            "700/700 [==============================] - 1s 992us/step - loss: 0.0068\n",
            "Epoch 68/100\n",
            "700/700 [==============================] - 1s 960us/step - loss: 0.0067\n",
            "Epoch 69/100\n",
            "700/700 [==============================] - 1s 988us/step - loss: 0.0067\n",
            "Epoch 70/100\n",
            "700/700 [==============================] - 1s 1000us/step - loss: 0.0067\n",
            "Epoch 71/100\n",
            "700/700 [==============================] - 1s 975us/step - loss: 0.0067\n",
            "Epoch 72/100\n",
            "700/700 [==============================] - 1s 969us/step - loss: 0.0067\n",
            "Epoch 73/100\n",
            "700/700 [==============================] - 1s 1ms/step - loss: 0.0068\n",
            "Epoch 74/100\n",
            "700/700 [==============================] - 1s 1ms/step - loss: 0.0067\n",
            "Epoch 75/100\n",
            "700/700 [==============================] - 1s 966us/step - loss: 0.0067\n",
            "Epoch 76/100\n",
            "700/700 [==============================] - 1s 958us/step - loss: 0.0067\n",
            "Epoch 77/100\n",
            "700/700 [==============================] - 1s 993us/step - loss: 0.0067\n",
            "Epoch 78/100\n",
            "700/700 [==============================] - 1s 987us/step - loss: 0.0067\n",
            "Epoch 79/100\n",
            "700/700 [==============================] - 1s 987us/step - loss: 0.0067\n",
            "Epoch 80/100\n",
            "700/700 [==============================] - 1s 981us/step - loss: 0.0068\n",
            "Epoch 81/100\n",
            "700/700 [==============================] - 1s 984us/step - loss: 0.0067\n",
            "Epoch 82/100\n",
            "700/700 [==============================] - 1s 992us/step - loss: 0.0067\n",
            "Epoch 83/100\n",
            "700/700 [==============================] - 1s 986us/step - loss: 0.0067\n",
            "Epoch 84/100\n",
            "700/700 [==============================] - 1s 1ms/step - loss: 0.0067\n",
            "Epoch 85/100\n",
            "700/700 [==============================] - 1s 1ms/step - loss: 0.0067\n",
            "Epoch 86/100\n",
            "700/700 [==============================] - 1s 980us/step - loss: 0.0067\n",
            "Epoch 87/100\n",
            "700/700 [==============================] - 1s 990us/step - loss: 0.0067\n",
            "Epoch 88/100\n",
            "700/700 [==============================] - 1s 973us/step - loss: 0.0068\n",
            "Epoch 89/100\n",
            "700/700 [==============================] - 1s 961us/step - loss: 0.0068\n",
            "Epoch 90/100\n",
            "700/700 [==============================] - 1s 990us/step - loss: 0.0067\n",
            "Epoch 91/100\n",
            "700/700 [==============================] - 1s 989us/step - loss: 0.0067\n",
            "Epoch 92/100\n",
            "700/700 [==============================] - 1s 967us/step - loss: 0.0067\n",
            "Epoch 93/100\n",
            "700/700 [==============================] - 1s 950us/step - loss: 0.0067\n",
            "Epoch 94/100\n",
            "700/700 [==============================] - 1s 955us/step - loss: 0.0067\n",
            "Epoch 95/100\n",
            "700/700 [==============================] - 1s 953us/step - loss: 0.0067\n",
            "Epoch 96/100\n",
            "700/700 [==============================] - 1s 971us/step - loss: 0.0067\n",
            "Epoch 97/100\n",
            "700/700 [==============================] - 1s 1ms/step - loss: 0.0067\n",
            "Epoch 98/100\n",
            "700/700 [==============================] - 1s 962us/step - loss: 0.0067\n",
            "Epoch 99/100\n",
            "700/700 [==============================] - 1s 1ms/step - loss: 0.0067\n",
            "Epoch 100/100\n",
            "700/700 [==============================] - 1s 981us/step - loss: 0.0068\n",
            "94/94 [==============================] - 0s 746us/step - loss: 0.0065\n",
            "score: 99.99%\n"
          ],
          "name": "stdout"
        }
      ]
    }
  ]
}